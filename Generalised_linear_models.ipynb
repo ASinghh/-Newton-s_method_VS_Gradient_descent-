{
 "cells": [
  {
   "cell_type": "code",
   "execution_count": 658,
   "metadata": {
    "collapsed": true
   },
   "outputs": [],
   "source": [
    "import numpy as np\n",
    "import pandas as pd\n",
    "from sklearn import preprocessing\n",
    "import matplotlib.pyplot as plt\n",
    "import helper7 as hp"
   ]
  },
  {
   "cell_type": "code",
   "execution_count": 659,
   "metadata": {
    "collapsed": true
   },
   "outputs": [],
   "source": [
    "step_size = 0.1\n",
    "data = pd.read_csv(\"wdbc.csv\")\n",
    "X = data.drop(['0'], axis=1).values\n",
    "scaler = preprocessing.StandardScaler().fit(X) # scaling  element  \n",
    "X = scaler.transform(X)## scaling transformation\n",
    "YD = data[[\"0\"]].values \n",
    "YL =[]\n",
    "for i in YD:                      ## replacing M by 1 and B by 0\n",
    "    if i == \"M\":\n",
    "        YL.append(1)\n",
    "    else:\n",
    "        YL.append(0)\n",
    "Y = np.asarray(YL)\n",
    "Y = np.reshape(Y, (len(Y),1))\n",
    "x_train = X[1:500]              ## Deviding data into train and test datasets\n",
    "x_test = X[500:]\n",
    "\n",
    "y_train = Y[1:500]\n",
    "y_test = Y[500:]"
   ]
  },
  {
   "cell_type": "code",
   "execution_count": 660,
   "metadata": {},
   "outputs": [
    {
     "name": "stdout",
     "output_type": "stream",
     "text": [
      "[[ 0.82020604]\n",
      " [ 1.73442809]\n",
      " [ 1.45786697]\n",
      " [ 1.88254282]\n",
      " [ 1.3438129 ]\n",
      " [-0.11768541]\n",
      " [ 0.96871997]\n",
      " [ 1.17854944]\n",
      " [ 0.37499829]\n",
      " [-0.2744173 ]\n",
      " [ 0.82114086]]\n"
     ]
    }
   ],
   "source": [
    "#### Gradient Descent############\n",
    "###\n",
    "###   PART B\n",
    "###\n",
    "################################\n",
    "Beta = np.random.rand(11,1)\n",
    "num_steps = 1000\n",
    "step_size = 0.2\n",
    "loss_list = []\n",
    "\n",
    "for i in range(num_steps):\n",
    "    w =  hp.activation_sigmoid(hp.logits(Beta,x_train)) ## check out the helper.py to look \n",
    "    loss  = hp.neg_log_likely(y_train,w)                ## at the functions\n",
    "    grad =  hp.gradient(x_train,y_train,w)\n",
    "    Beta -= step_size*grad\n",
    "    loss_list.append(loss)\n",
    "\n",
    "    \n",
    "    \n",
    "print (Beta)"
   ]
  },
  {
   "cell_type": "code",
   "execution_count": 661,
   "metadata": {},
   "outputs": [
    {
     "data": {
      "text/plain": [
       "0.8840579710144928"
      ]
     },
     "execution_count": 661,
     "metadata": {},
     "output_type": "execute_result"
    }
   ],
   "source": [
    "pred = hp.predict_binary(Beta,x_test,0.5) ## hp is from the helper.py, check it out \n",
    "hp.accuracy(y_test,pred, j =0)  ############ in the repository "
   ]
  },
  {
   "cell_type": "code",
   "execution_count": 662,
   "metadata": {},
   "outputs": [
    {
     "name": "stderr",
     "output_type": "stream",
     "text": [
      "C:\\Users\\ashut\\Desktop\\SDS 385\\Exercise_1\\helper7.py:59: RuntimeWarning: invalid value encountered in log\n",
      "  l = -(np.nan_to_num(np.dot(y.transpose(), np.log(w))) + np.nan_to_num(np.dot((1-y).transpose(), np.log(1-w))))\n"
     ]
    },
    {
     "data": {
      "image/png": "[encoded data removed]",
      "text/plain": [
       "<matplotlib.figure.Figure at 0x1eeca3600b8>"
      ]
     },
     "metadata": {},
     "output_type": "display_data"
    }
   ],
   "source": [
    "## Newton's Method\n",
    "\n",
    "\n",
    "#######################\n",
    "##\n",
    "##      PART D\n",
    "##\n",
    "######################\n",
    "\n",
    "num_steps = 10000\n",
    "step_size = 1\n",
    "loss_list = []\n",
    "counter =  []\n",
    "Beta = np.random.rand(11,1)\n",
    "for i in range(num_steps):\n",
    "    counter.append(i)\n",
    "    w =  hp.activation_sigmoid(hp.logits(Beta,x_train)) +1e-5\n",
    "    loss  = hp.neg_log_likely(y_train,w)\n",
    "    pre_grad =  hp.gradient(x_train,y_train,w)\n",
    "    grad = np.linalg.pinv(hp.hessian(Beta, x_train),rcond=1e-15).dot( pre_grad)## using linag.pinv to avoid singularity\n",
    "    Beta -= step_size*grad\n",
    "    loss_list.append(loss)\n",
    "\n",
    "plt.plot(counter,loss_list)\n",
    "plt.show()\n",
    "\n",
    "\n",
    "\n"
   ]
  },
  {
   "cell_type": "code",
   "execution_count": 663,
   "metadata": {},
   "outputs": [
    {
     "data": {
      "text/plain": [
       "0.9130434782608695"
      ]
     },
     "execution_count": 663,
     "metadata": {},
     "output_type": "execute_result"
    }
   ],
   "source": [
    "pred = hp.predict_binary(Beta,x_test,0.5)\n",
    "hp.accuracy(y_test,pred, j =0)"
   ]
  }
 ],
 "metadata": {
  "kernelspec": {
   "display_name": "Python 3",
   "language": "python",
   "name": "python3"
  },
  "language_info": {
   "codemirror_mode": {
    "name": "ipython",
    "version": 3
   },
   "file_extension": ".py",
   "mimetype": "text/x-python",
   "name": "python",
   "nbconvert_exporter": "python",
   "pygments_lexer": "ipython3",
   "version": "3.6.1"
  }
 },
 "nbformat": 4,
 "nbformat_minor": 2
}
